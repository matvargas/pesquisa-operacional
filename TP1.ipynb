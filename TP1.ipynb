{
 "cells": [
  {
   "cell_type": "code",
   "execution_count": 97,
   "metadata": {},
   "outputs": [],
   "source": [
    "import numpy as np\n",
    "import pandas as pd\n",
    "\n",
    "showLog = True\n",
    "\n",
    "def simplex_tableu(r, v, c, a, b):\n",
    "    tableu = pd.DataFrame(a)\n",
    "    tableu.assign(teste = b)\n",
    "    print(tableu)\n",
    "    for column in range(v):\n",
    "        if(sum(df[column].values) == 1 and df[column].values.tolist().count(0) == (v - 1)):\n",
    "            if(showLog): print(\"Column #{} with values {} is a possible base\".format(column,df[column].values))"
   ]
  },
  {
   "cell_type": "code",
   "execution_count": 98,
   "metadata": {},
   "outputs": [
    {
     "name": "stdout",
     "output_type": "stream",
     "text": [
      "   0  1  2\n",
      "0  1  0  0\n",
      "1  0  1  0\n",
      "2  0  0  1\n",
      "Column #0 with values [1 0 0] is a possible base\n",
      "Column #1 with values [0 1 0] is a possible base\n",
      "Column #2 with values [0 0 1] is a possible base\n"
     ]
    }
   ],
   "source": [
    "r = 3\n",
    "v = 3\n",
    "c = [2,4,8]\n",
    "a = [[1,0,0],[0,1,0],[0,0,1]]\n",
    "b = [1,1,1]\n",
    "simplex_tableu(r,v,c,a,b)"
   ]
  },
  {
   "cell_type": "code",
   "execution_count": null,
   "metadata": {},
   "outputs": [],
   "source": []
  },
  {
   "cell_type": "code",
   "execution_count": null,
   "metadata": {},
   "outputs": [],
   "source": []
  }
 ],
 "metadata": {
  "kernelspec": {
   "display_name": "Python 3",
   "language": "python",
   "name": "python3"
  },
  "language_info": {
   "codemirror_mode": {
    "name": "ipython",
    "version": 3
   },
   "file_extension": ".py",
   "mimetype": "text/x-python",
   "name": "python",
   "nbconvert_exporter": "python",
   "pygments_lexer": "ipython3",
   "version": "3.7.0"
  }
 },
 "nbformat": 4,
 "nbformat_minor": 2
}
