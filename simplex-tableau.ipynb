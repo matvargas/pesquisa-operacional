{
 "cells": [
  {
   "cell_type": "code",
   "execution_count": 41,
   "metadata": {},
   "outputs": [],
   "source": [
    "SHOW_OUTPUTS = True\n",
    "\n",
    "def ShowTableau(c, a, b, certificate, optimal):\n",
    "    print(\"\\n\")\n",
    "    print(\"c[]: {}\".format(c))\n",
    "    print(\"A[] : {}\".format(a))\n",
    "    print(\"b[] : {}\".format(b))\n",
    "    print(\"Optimal : {}\".format(optimal))\n",
    "    print(\"\\n\")\n",
    "\n",
    "def Identity(n):\n",
    "    m=[[0 for x in range(n)] for y in range(n)]\n",
    "    for i in range(0,n):\n",
    "        m[i][i] = 1\n",
    "    return m\n",
    "\n",
    "def Pivot(which_row, which_column, c, a, b, certificate, operations, optimal):\n",
    "    \n",
    "    pivot = a[which_row][which_column]\n",
    "    if(SHOW_OUTPUTS): print(\"Pivot: {}\".format(pivot))\n",
    "    \n",
    "    if(SHOW_OUTPUTS): print(\"Iterate A[] over the pivot: {}\".format(pivot))\n",
    "    for i in range(len(a[which_row])):\n",
    "        if(a[which_row][i] != 0):\n",
    "            a[which_row][i] = a[which_row][i]/pivot\n",
    "            \n",
    "    if(SHOW_OUTPUTS): print(\"Iterate operations[] over the pivot: {}\".format(pivot))\n",
    "    for i in range(len(a[which_row])):\n",
    "        if(operations[which_row][i] != 0):\n",
    "            operations[which_row][i] = operations[which_row][i]/pivot\n",
    "    \n",
    "    if(SHOW_OUTPUTS): print(\"Iterate b[] over the pivot: {}\".format(pivot))\n",
    "    if(b[which_row] != 0):\n",
    "        b[which_row][0] = b[which_row][0]/pivot\n",
    "        \n",
    "    if(SHOW_OUTPUTS): print(\"Reseting a column over the pivot: {}\".format(pivot))\n",
    "    for i in range(len(a[which_row])):\n",
    "        for j in range(len(a)):\n",
    "            print(\"i = {}, j = {}\".format(i,j))\n",
    "            if(i != which_row and j != which_column):\n",
    "                if(a[i][j] != 0):\n",
    "                    value = (a[i][j]/pivot) * -1\n",
    "                    if(SHOW_OUTPUTS): print(\"Using the value: {} for set 0 at the column\".format(pivot))\n",
    "                    a[i][j] += value\n",
    "        \n",
    "        \n",
    "    return(c, a, b, certificate, operations, optimal)\n",
    "    \n",
    "\n",
    "def SimplexTableau(r, v, c, a, b):\n",
    "    certificate = [0] * r\n",
    "    operations = Identity(3)\n",
    "    gap_vars = Identity(3)\n",
    "    a = a + gap_vars\n",
    "    c = c + [0] * r\n",
    "    optimal = 0\n",
    "    for i in range(len(c)):\n",
    "        c[i] = c[i] * -1\n",
    "        \n",
    "    for c_index in range(len(c)):\n",
    "        \n",
    "        if(SHOW_OUTPUTS): ShowTableau(c, a, b, certificate, optimal)\n",
    "        \n",
    "        if(c[c_index] < 0 ):\n",
    "            lower = 10000\n",
    "            for i in range(len(b)):\n",
    "                if(b[i][0] != 0):\n",
    "                    if(SHOW_OUTPUTS): print(\"Minimizing: {}/{}\".format(b[i][0],a[i][c_index]))\n",
    "                    if(a[i][c_index] != 0 and b[i][0]/a[i][c_index] < lower):\n",
    "                        lower = b[i][0]/a[i][c_index]\n",
    "                        which_row = i\n",
    "                        which_column = c_index\n",
    "            if(SHOW_OUTPUTS): print(\"Lower value is {} on row #{}\".format(lower, which_row))\n",
    "            c, a, b, certificate, operations, optimal = Pivot(which_row, which_column, c, a, b, certificate, operations, optimal)\n",
    "\n",
    "        "
   ]
  },
  {
   "cell_type": "code",
   "execution_count": 42,
   "metadata": {},
   "outputs": [
    {
     "name": "stdout",
     "output_type": "stream",
     "text": [
      "\n",
      "\n",
      "c[]: [-2, -4, -8, 0, 0, 0]\n",
      "A[] : [[1, 0, 0], [0, 1, 0], [0, 0, 1], [1, 0, 0], [0, 1, 0], [0, 0, 1]]\n",
      "b[] : [[1], [1], [1]]\n",
      "Optimal : 0\n",
      "\n",
      "\n",
      "Minimizing: 1/1\n",
      "Minimizing: 1/0\n",
      "Minimizing: 1/0\n",
      "Lower value is 1.0 on row #0\n",
      "Pivot: 1\n",
      "Iterate A[] over the pivot: 1\n",
      "Iterate operations[] over the pivot: 1\n",
      "Iterate b[] over the pivot: 1\n",
      "Reseting a column over the pivot: 1\n",
      "i = 0, j = 0\n",
      "i = 0, j = 1\n",
      "i = 0, j = 2\n",
      "i = 0, j = 3\n",
      "i = 0, j = 4\n",
      "i = 0, j = 5\n",
      "i = 1, j = 0\n",
      "i = 1, j = 1\n",
      "Using the value: 1 for set 0 at the column\n",
      "i = 1, j = 2\n",
      "i = 1, j = 3\n"
     ]
    },
    {
     "ename": "IndexError",
     "evalue": "list index out of range",
     "output_type": "error",
     "traceback": [
      "\u001b[0;31m---------------------------------------------------------------------------\u001b[0m",
      "\u001b[0;31mIndexError\u001b[0m                                Traceback (most recent call last)",
      "\u001b[0;32m<ipython-input-42-4d0a81587300>\u001b[0m in \u001b[0;36m<module>\u001b[0;34m()\u001b[0m\n\u001b[1;32m      4\u001b[0m \u001b[0ma\u001b[0m \u001b[0;34m=\u001b[0m \u001b[0;34m[\u001b[0m\u001b[0;34m[\u001b[0m\u001b[0;36m1\u001b[0m\u001b[0;34m,\u001b[0m\u001b[0;36m0\u001b[0m\u001b[0;34m,\u001b[0m\u001b[0;36m0\u001b[0m\u001b[0;34m]\u001b[0m\u001b[0;34m,\u001b[0m\u001b[0;34m[\u001b[0m\u001b[0;36m0\u001b[0m\u001b[0;34m,\u001b[0m\u001b[0;36m1\u001b[0m\u001b[0;34m,\u001b[0m\u001b[0;36m0\u001b[0m\u001b[0;34m]\u001b[0m\u001b[0;34m,\u001b[0m\u001b[0;34m[\u001b[0m\u001b[0;36m0\u001b[0m\u001b[0;34m,\u001b[0m\u001b[0;36m0\u001b[0m\u001b[0;34m,\u001b[0m\u001b[0;36m1\u001b[0m\u001b[0;34m]\u001b[0m\u001b[0;34m]\u001b[0m\u001b[0;34m\u001b[0m\u001b[0m\n\u001b[1;32m      5\u001b[0m \u001b[0mb\u001b[0m \u001b[0;34m=\u001b[0m \u001b[0;34m[\u001b[0m\u001b[0;34m[\u001b[0m\u001b[0;36m1\u001b[0m\u001b[0;34m]\u001b[0m\u001b[0;34m,\u001b[0m\u001b[0;34m[\u001b[0m\u001b[0;36m1\u001b[0m\u001b[0;34m]\u001b[0m\u001b[0;34m,\u001b[0m\u001b[0;34m[\u001b[0m\u001b[0;36m1\u001b[0m\u001b[0;34m]\u001b[0m\u001b[0;34m]\u001b[0m\u001b[0;34m\u001b[0m\u001b[0m\n\u001b[0;32m----> 6\u001b[0;31m \u001b[0mSimplexTableau\u001b[0m\u001b[0;34m(\u001b[0m\u001b[0mr\u001b[0m\u001b[0;34m,\u001b[0m\u001b[0mv\u001b[0m\u001b[0;34m,\u001b[0m\u001b[0mc\u001b[0m\u001b[0;34m,\u001b[0m\u001b[0ma\u001b[0m\u001b[0;34m,\u001b[0m\u001b[0mb\u001b[0m\u001b[0;34m)\u001b[0m\u001b[0;34m\u001b[0m\u001b[0m\n\u001b[0m",
      "\u001b[0;32m<ipython-input-41-a1db47eb8874>\u001b[0m in \u001b[0;36mSimplexTableau\u001b[0;34m(r, v, c, a, b)\u001b[0m\n\u001b[1;32m     72\u001b[0m                         \u001b[0mwhich_column\u001b[0m \u001b[0;34m=\u001b[0m \u001b[0mc_index\u001b[0m\u001b[0;34m\u001b[0m\u001b[0m\n\u001b[1;32m     73\u001b[0m             \u001b[0;32mif\u001b[0m\u001b[0;34m(\u001b[0m\u001b[0mSHOW_OUTPUTS\u001b[0m\u001b[0;34m)\u001b[0m\u001b[0;34m:\u001b[0m \u001b[0mprint\u001b[0m\u001b[0;34m(\u001b[0m\u001b[0;34m\"Lower value is {} on row #{}\"\u001b[0m\u001b[0;34m.\u001b[0m\u001b[0mformat\u001b[0m\u001b[0;34m(\u001b[0m\u001b[0mlower\u001b[0m\u001b[0;34m,\u001b[0m \u001b[0mwhich_row\u001b[0m\u001b[0;34m)\u001b[0m\u001b[0;34m)\u001b[0m\u001b[0;34m\u001b[0m\u001b[0m\n\u001b[0;32m---> 74\u001b[0;31m             \u001b[0mc\u001b[0m\u001b[0;34m,\u001b[0m \u001b[0ma\u001b[0m\u001b[0;34m,\u001b[0m \u001b[0mb\u001b[0m\u001b[0;34m,\u001b[0m \u001b[0mcertificate\u001b[0m\u001b[0;34m,\u001b[0m \u001b[0moperations\u001b[0m\u001b[0;34m,\u001b[0m \u001b[0moptimal\u001b[0m \u001b[0;34m=\u001b[0m \u001b[0mPivot\u001b[0m\u001b[0;34m(\u001b[0m\u001b[0mwhich_row\u001b[0m\u001b[0;34m,\u001b[0m \u001b[0mwhich_column\u001b[0m\u001b[0;34m,\u001b[0m \u001b[0mc\u001b[0m\u001b[0;34m,\u001b[0m \u001b[0ma\u001b[0m\u001b[0;34m,\u001b[0m \u001b[0mb\u001b[0m\u001b[0;34m,\u001b[0m \u001b[0mcertificate\u001b[0m\u001b[0;34m,\u001b[0m \u001b[0moperations\u001b[0m\u001b[0;34m,\u001b[0m \u001b[0moptimal\u001b[0m\u001b[0;34m)\u001b[0m\u001b[0;34m\u001b[0m\u001b[0m\n\u001b[0m\u001b[1;32m     75\u001b[0m \u001b[0;34m\u001b[0m\u001b[0m\n\u001b[1;32m     76\u001b[0m \u001b[0;34m\u001b[0m\u001b[0m\n",
      "\u001b[0;32m<ipython-input-41-a1db47eb8874>\u001b[0m in \u001b[0;36mPivot\u001b[0;34m(which_row, which_column, c, a, b, certificate, operations, optimal)\u001b[0m\n\u001b[1;32m     39\u001b[0m             \u001b[0mprint\u001b[0m\u001b[0;34m(\u001b[0m\u001b[0;34m\"i = {}, j = {}\"\u001b[0m\u001b[0;34m.\u001b[0m\u001b[0mformat\u001b[0m\u001b[0;34m(\u001b[0m\u001b[0mi\u001b[0m\u001b[0;34m,\u001b[0m\u001b[0mj\u001b[0m\u001b[0;34m)\u001b[0m\u001b[0;34m)\u001b[0m\u001b[0;34m\u001b[0m\u001b[0m\n\u001b[1;32m     40\u001b[0m             \u001b[0;32mif\u001b[0m\u001b[0;34m(\u001b[0m\u001b[0mi\u001b[0m \u001b[0;34m!=\u001b[0m \u001b[0mwhich_row\u001b[0m \u001b[0;32mand\u001b[0m \u001b[0mj\u001b[0m \u001b[0;34m!=\u001b[0m \u001b[0mwhich_column\u001b[0m\u001b[0;34m)\u001b[0m\u001b[0;34m:\u001b[0m\u001b[0;34m\u001b[0m\u001b[0m\n\u001b[0;32m---> 41\u001b[0;31m                 \u001b[0;32mif\u001b[0m\u001b[0;34m(\u001b[0m\u001b[0ma\u001b[0m\u001b[0;34m[\u001b[0m\u001b[0mi\u001b[0m\u001b[0;34m]\u001b[0m\u001b[0;34m[\u001b[0m\u001b[0mj\u001b[0m\u001b[0;34m]\u001b[0m \u001b[0;34m!=\u001b[0m \u001b[0;36m0\u001b[0m\u001b[0;34m)\u001b[0m\u001b[0;34m:\u001b[0m\u001b[0;34m\u001b[0m\u001b[0m\n\u001b[0m\u001b[1;32m     42\u001b[0m                     \u001b[0mvalue\u001b[0m \u001b[0;34m=\u001b[0m \u001b[0;34m(\u001b[0m\u001b[0ma\u001b[0m\u001b[0;34m[\u001b[0m\u001b[0mi\u001b[0m\u001b[0;34m]\u001b[0m\u001b[0;34m[\u001b[0m\u001b[0mj\u001b[0m\u001b[0;34m]\u001b[0m\u001b[0;34m/\u001b[0m\u001b[0mpivot\u001b[0m\u001b[0;34m)\u001b[0m \u001b[0;34m*\u001b[0m \u001b[0;34m-\u001b[0m\u001b[0;36m1\u001b[0m\u001b[0;34m\u001b[0m\u001b[0m\n\u001b[1;32m     43\u001b[0m                     \u001b[0;32mif\u001b[0m\u001b[0;34m(\u001b[0m\u001b[0mSHOW_OUTPUTS\u001b[0m\u001b[0;34m)\u001b[0m\u001b[0;34m:\u001b[0m \u001b[0mprint\u001b[0m\u001b[0;34m(\u001b[0m\u001b[0;34m\"Using the value: {} for set 0 at the column\"\u001b[0m\u001b[0;34m.\u001b[0m\u001b[0mformat\u001b[0m\u001b[0;34m(\u001b[0m\u001b[0mpivot\u001b[0m\u001b[0;34m)\u001b[0m\u001b[0;34m)\u001b[0m\u001b[0;34m\u001b[0m\u001b[0m\n",
      "\u001b[0;31mIndexError\u001b[0m: list index out of range"
     ]
    }
   ],
   "source": [
    "r = 3\n",
    "v = 3\n",
    "c = [2,4,8]\n",
    "a = [[1,0,0],[0,1,0],[0,0,1]]\n",
    "b = [[1],[1],[1]]\n",
    "SimplexTableau(r,v,c,a,b)"
   ]
  },
  {
   "cell_type": "code",
   "execution_count": 26,
   "metadata": {},
   "outputs": [
    {
     "name": "stdout",
     "output_type": "stream",
     "text": [
      "range(0, 3)\n"
     ]
    }
   ],
   "source": [
    "print(range(len(a)))"
   ]
  },
  {
   "cell_type": "code",
   "execution_count": null,
   "metadata": {},
   "outputs": [],
   "source": []
  }
 ],
 "metadata": {
  "kernelspec": {
   "display_name": "Python 3",
   "language": "python",
   "name": "python3"
  },
  "language_info": {
   "codemirror_mode": {
    "name": "ipython",
    "version": 3
   },
   "file_extension": ".py",
   "mimetype": "text/x-python",
   "name": "python",
   "nbconvert_exporter": "python",
   "pygments_lexer": "ipython3",
   "version": "3.7.0"
  }
 },
 "nbformat": 4,
 "nbformat_minor": 2
}
