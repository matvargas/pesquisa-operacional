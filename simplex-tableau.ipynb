{
 "cells": [
  {
   "cell_type": "code",
   "execution_count": 33,
   "metadata": {},
   "outputs": [],
   "source": [
    "showOutputs = True\n",
    "\n",
    "def showTableau(c, a, b, certificate, operations, gap_vars):\n",
    "    print(\"c[]: {}\".format(c))\n",
    "    print(\"A[] : {}\".format(a))\n",
    "    print(\"b[] : {}\".format(b))\n",
    "\n",
    "def identity(n):\n",
    "    m=[[0 for x in range(n)] for y in range(n)]\n",
    "    for i in range(0,n):\n",
    "        m[i][i] = 1\n",
    "    return m\n",
    "\n",
    "def simplex_tableau(r, v, c, a, b):\n",
    "    certificate = [0] * r\n",
    "    operations = identity(3)\n",
    "    gap_vars = identity(3)\n",
    "    a = a + gap_vars\n",
    "    c = c + [0] * r\n",
    "    for i in range(len(c)):\n",
    "        c[i] = c[i] * -1\n",
    "    if(showOutputs): showTableau(c, a, b, certificate, operations, gap_vars)\n",
    "        "
   ]
  },
  {
   "cell_type": "code",
   "execution_count": 34,
   "metadata": {},
   "outputs": [
    {
     "name": "stdout",
     "output_type": "stream",
     "text": [
      "c[]: [-2, -4, -8, 0, 0, 0]\n",
      "A[] : [[1, 0, 0], [0, 1, 0], [0, 0, 1], [1, 0, 0], [0, 1, 0], [0, 0, 1]]\n",
      "b[] : [[1], [1], [1]]\n"
     ]
    }
   ],
   "source": [
    "r = 3\n",
    "v = 3\n",
    "c = [2,4,8]\n",
    "a = [[1,0,0],[0,1,0],[0,0,1]]\n",
    "b = [[1],[1],[1]]\n",
    "simplex_tableau(r,v,c,a,b)"
   ]
  },
  {
   "cell_type": "code",
   "execution_count": null,
   "metadata": {},
   "outputs": [],
   "source": []
  },
  {
   "cell_type": "code",
   "execution_count": null,
   "metadata": {},
   "outputs": [],
   "source": []
  }
 ],
 "metadata": {
  "kernelspec": {
   "display_name": "Python 3",
   "language": "python",
   "name": "python3"
  },
  "language_info": {
   "codemirror_mode": {
    "name": "ipython",
    "version": 3
   },
   "file_extension": ".py",
   "mimetype": "text/x-python",
   "name": "python",
   "nbconvert_exporter": "python",
   "pygments_lexer": "ipython3",
   "version": "3.7.0"
  }
 },
 "nbformat": 4,
 "nbformat_minor": 2
}
