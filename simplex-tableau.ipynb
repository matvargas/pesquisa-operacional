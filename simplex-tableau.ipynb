{
 "cells": [
  {
   "cell_type": "code",
   "execution_count": 96,
   "metadata": {},
   "outputs": [],
   "source": [
    "SHOW_OUTPUTS = True\n",
    "\n",
    "def ShowTableau(c, a, b, certificate, operations, gap_vars):\n",
    "    print(\"c[]: {}\".format(c))\n",
    "    print(\"A[] : {}\".format(a))\n",
    "    print(\"b[] : {}\".format(b))\n",
    "\n",
    "def identity(n):\n",
    "    m=[[0 for x in range(n)] for y in range(n)]\n",
    "    for i in range(0,n):\n",
    "        m[i][i] = 1\n",
    "    return m\n",
    "\n",
    "def SimplexTableau(r, v, c, a, b):\n",
    "    certificate = [0] * r\n",
    "    operations = identity(3)\n",
    "    gap_vars = identity(3)\n",
    "    a = a + gap_vars\n",
    "    c = c + [0] * r\n",
    "    for i in range(len(c)):\n",
    "        c[i] = c[i] * -1\n",
    "        \n",
    "    for c_index in range(len(c)):\n",
    "        \n",
    "        if(SHOW_OUTPUTS): ShowTableau(c, a, b, certificate, operations, gap_vars)\n",
    "        \n",
    "        if(c[c_index] < 0 ):\n",
    "            lower = 10000\n",
    "            for i in range(len(b)):\n",
    "                if(b[i][0] != 0):\n",
    "                    if(SHOW_OUTPUTS): print(\"Minimizing: {}/{}\".format(b[i][0],a[i][c_index]))\n",
    "                    if(a[i][c_index] != 0 and b[j][0]/a[i][c_index] < lower):\n",
    "                        lower = b[i][0]/a[i][c_index]\n",
    "                        which_row = i\n",
    "            if(SHOW_OUTPUTS): print(\"Lower value is {}\".format(lower))        \n",
    "\n",
    "        "
   ]
  },
  {
   "cell_type": "code",
   "execution_count": 97,
   "metadata": {},
   "outputs": [
    {
     "name": "stdout",
     "output_type": "stream",
     "text": [
      "c[]: [-2, -4, -8, 0, 0, 0]\n",
      "A[] : [[1, 0, 0], [0, 1, 0], [0, 0, 1], [1, 0, 0], [0, 1, 0], [0, 0, 1]]\n",
      "b[] : [[1], [1], [1]]\n",
      "Minimizing: 1/1\n",
      "Minimizing: 1/0\n",
      "Minimizing: 1/0\n",
      "Lower value is 1.0\n",
      "c[]: [-2, -4, -8, 0, 0, 0]\n",
      "A[] : [[1, 0, 0], [0, 1, 0], [0, 0, 1], [1, 0, 0], [0, 1, 0], [0, 0, 1]]\n",
      "b[] : [[1], [1], [1]]\n",
      "Minimizing: 1/0\n",
      "Minimizing: 1/1\n",
      "Minimizing: 1/0\n",
      "Lower value is 1.0\n",
      "c[]: [-2, -4, -8, 0, 0, 0]\n",
      "A[] : [[1, 0, 0], [0, 1, 0], [0, 0, 1], [1, 0, 0], [0, 1, 0], [0, 0, 1]]\n",
      "b[] : [[1], [1], [1]]\n",
      "Minimizing: 1/0\n",
      "Minimizing: 1/0\n",
      "Minimizing: 1/1\n",
      "Lower value is 1.0\n",
      "c[]: [-2, -4, -8, 0, 0, 0]\n",
      "A[] : [[1, 0, 0], [0, 1, 0], [0, 0, 1], [1, 0, 0], [0, 1, 0], [0, 0, 1]]\n",
      "b[] : [[1], [1], [1]]\n",
      "c[]: [-2, -4, -8, 0, 0, 0]\n",
      "A[] : [[1, 0, 0], [0, 1, 0], [0, 0, 1], [1, 0, 0], [0, 1, 0], [0, 0, 1]]\n",
      "b[] : [[1], [1], [1]]\n",
      "c[]: [-2, -4, -8, 0, 0, 0]\n",
      "A[] : [[1, 0, 0], [0, 1, 0], [0, 0, 1], [1, 0, 0], [0, 1, 0], [0, 0, 1]]\n",
      "b[] : [[1], [1], [1]]\n"
     ]
    }
   ],
   "source": [
    "r = 3\n",
    "v = 3\n",
    "c = [2,4,8]\n",
    "a = [[1,0,0],[0,1,0],[0,0,1]]\n",
    "b = [[1],[1],[1]]\n",
    "SimplexTableau(r,v,c,a,b)"
   ]
  },
  {
   "cell_type": "code",
   "execution_count": 75,
   "metadata": {},
   "outputs": [
    {
     "name": "stdout",
     "output_type": "stream",
     "text": [
      "range(0, 4)\n"
     ]
    }
   ],
   "source": [
    "print(range(len(a)))"
   ]
  },
  {
   "cell_type": "code",
   "execution_count": null,
   "metadata": {},
   "outputs": [],
   "source": []
  }
 ],
 "metadata": {
  "kernelspec": {
   "display_name": "Python 3",
   "language": "python",
   "name": "python3"
  },
  "language_info": {
   "codemirror_mode": {
    "name": "ipython",
    "version": 3
   },
   "file_extension": ".py",
   "mimetype": "text/x-python",
   "name": "python",
   "nbconvert_exporter": "python",
   "pygments_lexer": "ipython3",
   "version": "3.7.0"
  }
 },
 "nbformat": 4,
 "nbformat_minor": 2
}
