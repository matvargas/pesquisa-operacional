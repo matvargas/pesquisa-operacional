{
 "cells": [
  {
   "cell_type": "code",
   "execution_count": 104,
   "metadata": {},
   "outputs": [],
   "source": [
    "SHOW_OUTPUTS = False\n",
    "\n",
    "def ShowTableau(c, a, b, certificate, optimal):\n",
    "    print(\"\\n\")\n",
    "    print(\"c[]: {}\".format(c))\n",
    "    print(\"A[] : {}\".format(a))\n",
    "    print(\"b[] : {}\".format(b))\n",
    "    print(\"certificate[] : {}\".format(certificate))\n",
    "    print(\"Optimal : {}\".format(optimal))\n",
    "    print(\"\\n\")\n",
    "\n",
    "def Identity(n):\n",
    "    m=[[0 for x in range(n)] for y in range(n)]\n",
    "    for i in range(0,n):\n",
    "        m[i][i] = 1\n",
    "    return m\n",
    "\n",
    "def Pivot(which_row, which_column, c, a, b, certificate, operations, optimal):\n",
    "    \n",
    "    pivot = a[which_row][which_column]\n",
    "    if(SHOW_OUTPUTS): print(\"Pivot: {}\".format(pivot))\n",
    "    \n",
    "    if(SHOW_OUTPUTS): print(\"Iterate A[{},{}] over the pivot: {}\".format(which_row, which_column ,pivot))\n",
    "    for i in range(len(a[which_row])):\n",
    "        if(a[which_row][i] != 0):\n",
    "            a[which_row][i] = a[which_row][i]/pivot\n",
    "    if(SHOW_OUTPUTS): print(a)\n",
    "    \n",
    "    if(SHOW_OUTPUTS): print(\"Iterate b[{}] over the pivot: {}\".format(which_row, pivot))\n",
    "    if(b[which_row] != 0):\n",
    "        b[which_row][0] = b[which_row][0]/pivot\n",
    "     \n",
    "    if(SHOW_OUTPUTS): print(b)\n",
    "    \n",
    "    if(SHOW_OUTPUTS): print(\"Iterate operations[{},{}] over the pivot: {}\".format(which_row, which_column ,pivot))\n",
    "    for i in range(len(operations[which_row])):\n",
    "        if(operations[which_row][i] != 0):\n",
    "            operations[which_row][i] = operations[which_row][i]/pivot\n",
    "            \n",
    "    if(SHOW_OUTPUTS): print(operations)\n",
    "        \n",
    "    value = (c[which_column]/a[which_row][which_column]) * -1\n",
    "    if(SHOW_OUTPUTS): print(\"The value: {} will be use to set 0 on c[{}] -> {}\".format(value, which_column, c[which_column]))\n",
    "    for i in range(len(a[which_row])):\n",
    "        if(a[which_row][i] != 0):\n",
    "            c[i] += a[which_row][i] * value\n",
    "    \n",
    "    optimal += b[which_row][0] * value\n",
    "    \n",
    "    for i in range(len(certificate)):\n",
    "        certificate[i] += operations[which_row][i] * value\n",
    "        \n",
    "    for i in range(len(a)):\n",
    "        if(i != which_row):\n",
    "            if(a[i][which_column] != 0):\n",
    "                value = (a[i][which_column]/a[which_row][which_column]) * -1\n",
    "                \n",
    "                for j in range(len(a[0])):\n",
    "                    a[i][j] += (a[which_row][j] * value)\n",
    "            \n",
    "                b[i][0] += (b[which_row][0] * value)\n",
    "                    \n",
    "    return(c, a, b, certificate, operations, optimal)\n",
    "    \n",
    "\n",
    "def SimplexTableau(r, v, c, a, b):\n",
    "    certificate = [0] * r\n",
    "    operations = Identity(3)\n",
    "    gap_vars = Identity(3)\n",
    "    \n",
    "    for i in range(len(a)):\n",
    "        a[i] = a[i] + gap_vars[i] \n",
    "\n",
    "    c = c + [0] * r\n",
    "    optimal = 0\n",
    "    \n",
    "    for i in range(len(c)):\n",
    "        c[i] = c[i] * -1\n",
    "    \n",
    "    c_index = 0\n",
    "    while (c_index < len(c)):    \n",
    "        if(SHOW_OUTPUTS): ShowTableau(c, a, b, certificate, optimal)\n",
    "        \n",
    "        if(c[c_index] < 0 ):\n",
    "            if(SHOW_OUTPUTS): print(\"Running tableau for c[{}]\".format(c_index))\n",
    "            lower = 10000\n",
    "            for i in range(len(b)):\n",
    "                if(b[i][0] != 0):\n",
    "                    if(SHOW_OUTPUTS): print(\"Minimizing: {}/{}\".format(b[i][0],a[i][c_index]))\n",
    "                    if(a[i][c_index] != 0 and b[i][0]/a[i][c_index] > 0 and b[i][0]/a[i][c_index] < lower):\n",
    "                        lower = b[i][0]/a[i][c_index]\n",
    "                        which_row = i\n",
    "                        which_column = c_index\n",
    "                        \n",
    "            if(lower < 0 or lower == 10000):\n",
    "                print(\"ilimitada \\n {} \\n {}\".format(b, certificate))\n",
    "                break\n",
    "                \n",
    "            \n",
    "            if(SHOW_OUTPUTS): print(\"Lower value is {} on row #{}\".format(lower, which_row))\n",
    "            c, a, b, certificate, operations, optimal = Pivot(which_row, which_column, c, a, b, certificate, operations, optimal)\n",
    "            c_index = 0\n",
    "        c_index += 1\n",
    "    \n",
    "    if(c_index == len(c) and optimal > 0):\n",
    "        print(\"otima \\n {} \\n {} \\n {}\".format(optimal, b, certificate))\n",
    "\n",
    "        "
   ]
  },
  {
   "cell_type": "code",
   "execution_count": 105,
   "metadata": {},
   "outputs": [
    {
     "name": "stdout",
     "output_type": "stream",
     "text": [
      "otima \n",
      " 10.5 \n",
      " [[1.5], [2.5], [0.5]] \n",
      " [2.0, 1.5, 0.0]\n"
     ]
    }
   ],
   "source": [
    "r = 3\n",
    "v = 3\n",
    "c = [3,2,4]\n",
    "a = [[1,1,2],[2,0,3],[2,1,3]]\n",
    "b = [[4],[5],[7]]\n",
    "SimplexTableau(r,v,c,a,b)"
   ]
  },
  {
   "cell_type": "code",
   "execution_count": 106,
   "metadata": {},
   "outputs": [
    {
     "name": "stdout",
     "output_type": "stream",
     "text": [
      "otima \n",
      " 14.0 \n",
      " [[1.0], [1.0], [1.0]] \n",
      " [2.0, 4.0, 8.0]\n"
     ]
    }
   ],
   "source": [
    "r = 3\n",
    "v = 3\n",
    "c = [2,4,8]\n",
    "a = [[1,0,0],[0,1,0],[0,0,1]]\n",
    "b = [[1],[1],[1]]\n",
    "SimplexTableau(r,v,c,a,b)"
   ]
  },
  {
   "cell_type": "code",
   "execution_count": 109,
   "metadata": {},
   "outputs": [
    {
     "name": "stdout",
     "output_type": "stream",
     "text": [
      "ilimitada \n",
      " [[5], [7]] \n",
      " [0, 0]\n"
     ]
    }
   ],
   "source": [
    "r = 2 \n",
    "v = 3\n",
    "c = [1, 0, 0]\n",
    "a = [[-1, 1, 0,],[-1, 0, 1]] \n",
    "b = [[5],[7]]\n",
    "SimplexTableau(r,v,c,a,b)"
   ]
  },
  {
   "cell_type": "code",
   "execution_count": null,
   "metadata": {},
   "outputs": [],
   "source": []
  }
 ],
 "metadata": {
  "kernelspec": {
   "display_name": "Python 3",
   "language": "python",
   "name": "python3"
  },
  "language_info": {
   "codemirror_mode": {
    "name": "ipython",
    "version": 3
   },
   "file_extension": ".py",
   "mimetype": "text/x-python",
   "name": "python",
   "nbconvert_exporter": "python",
   "pygments_lexer": "ipython3",
   "version": "3.7.0"
  }
 },
 "nbformat": 4,
 "nbformat_minor": 2
}
